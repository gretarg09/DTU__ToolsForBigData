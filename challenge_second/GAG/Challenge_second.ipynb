{
 "cells": [
  {
   "cell_type": "markdown",
   "metadata": {},
   "source": [
    "# Which subreddits have the largest vocabulary"
   ]
  },
  {
   "cell_type": "code",
   "execution_count": 1,
   "metadata": {
    "collapsed": false
   },
   "outputs": [
    {
     "name": "stdout",
     "output_type": "stream",
     "text": [
      "set(['comment', '4186', 'lucifer', 'score', 'author', 'comments', 'to', 'won', 'paradise', 'gets', 'war', 'most', 'link', 'drowningdream', 'wp', 'post', 'man', 'a', 'unfortunately', 'title', 'u', 'popular', 'the'])\n"
     ]
    }
   ],
   "source": [
    "with open('subsetReddit.json','r') as f:\n",
    "    for line in \n",
    "\n",
    "\n",
    "symbols = ['\\n','`','~','!','@','#','$','%','^','&','*','(',')','_','-','+','=','{','[',']','}','|','\\\\',':',';','\"',\"'\",'<','>','.','?','/',',']\n",
    "\n",
    "s = \"\"\"**Most Popular Comments**   \\n\\n---\\n|Score|Author|Post Title|Link to comment|\\n|:-|-|-|-|\\n|4186|/u/DrowningDream|[WP] A Man gets to paradise. Unfortunately, Lucifer won the War\"\"\"\n",
    "\n",
    "s = s.lower()\n",
    "for sym in symbols:\n",
    "\ts = s.replace(sym, \" \")\n",
    "\n",
    "words = set()\n",
    "for w in s.split(\" \"):\n",
    "\tif len(w.replace(\" \",\"\")) > 0:\n",
    "\t\twords.add(w)\n",
    "\n",
    "print words\n"
   ]
  },
  {
   "cell_type": "code",
   "execution_count": null,
   "metadata": {
    "collapsed": true
   },
   "outputs": [],
   "source": []
  },
  {
   "cell_type": "code",
   "execution_count": null,
   "metadata": {
    "collapsed": true
   },
   "outputs": [],
   "source": []
  }
 ],
 "metadata": {
  "anaconda-cloud": {},
  "kernelspec": {
   "display_name": "Python [conda root]",
   "language": "python",
   "name": "conda-root-py"
  },
  "language_info": {
   "codemirror_mode": {
    "name": "ipython",
    "version": 2
   },
   "file_extension": ".py",
   "mimetype": "text/x-python",
   "name": "python",
   "nbconvert_exporter": "python",
   "pygments_lexer": "ipython2",
   "version": "2.7.12"
  }
 },
 "nbformat": 4,
 "nbformat_minor": 1
}
