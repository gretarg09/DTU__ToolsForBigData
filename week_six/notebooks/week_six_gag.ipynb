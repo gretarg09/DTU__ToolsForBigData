{
 "cells": [
  {
   "cell_type": "markdown",
   "metadata": {},
   "source": [
    "# Week 6: SQL and NoSQL"
   ]
  },
  {
   "cell_type": "markdown",
   "metadata": {},
   "source": [
    "## Exercise 5.1 (simple query)\n",
    "**The customer with customerID ALFKI has made a number of orders containing some products. Query for, and return, all orders made by ALFKI and the products they contain. Return at least the product id and the name of the products.**\n",
    "\n",
    "\n",
    "### Expected outcome\n",
    "\n",
    "#10643 with Rössle Sauerkraut, Spegesild and Chartreuse verte\n",
    "#10692 with Vegie-spread\n",
    "#10702 with Aniseed Syrup and Lakkalikööri\n",
    "#10835 with Raclette Courdavault and Original Frankfurter grüne Soße\n",
    "#10952 with Grandma's Boysenberry Spread and Rössle Sauerkraut\n",
    "#11011 with Escargots de Bourgogne and Flotemysost\n"
   ]
  },
  {
   "cell_type": "markdown",
   "metadata": {},
   "source": [
    "### Mongo db"
   ]
  },
  {
   "cell_type": "code",
   "execution_count": 12,
   "metadata": {
    "collapsed": false
   },
   "outputs": [],
   "source": [
    "from pymongo import MongoClient\n",
    "# pprint library is used to make the output look more pretty\n",
    "from pprint import pprint\n",
    "\n",
    "mongodb_url = \"mongodb://localhost:27017\"\n",
    "\n",
    "# connect to MongoDB\n",
    "client = MongoClient(mongodb_url)\n",
    "db=client.Northwind\n",
    "# Issue the serverStatus command and print the results\n",
    "serverStatusResult=db.command(\"serverStatus\")\n",
    "#pprint(serverStatusResult)"
   ]
  },
  {
   "cell_type": "code",
   "execution_count": 11,
   "metadata": {
    "collapsed": false
   },
   "outputs": [
    {
     "name": "stdout",
     "output_type": "stream",
     "text": [
      "[u'suppliers',\n",
      " u'territories',\n",
      " u'regions',\n",
      " u'northwind',\n",
      " u'categories',\n",
      " u'products',\n",
      " u'employee-territories',\n",
      " u'orders',\n",
      " u'customers',\n",
      " u'shippers',\n",
      " u'order-details']\n"
     ]
    }
   ],
   "source": [
    "# Get the collections from the Northwind database\n",
    "collection = db.Northwind\n",
    "# print out all of the collections\n",
    "pprint(db.collection_names(include_system_collections=False))"
   ]
  },
  {
   "cell_type": "code",
   "execution_count": 120,
   "metadata": {
    "collapsed": false,
    "scrolled": true
   },
   "outputs": [
    {
     "name": "stdout",
     "output_type": "stream",
     "text": [
      "{u'CustomerID': u'ALFKI',\n",
      " u'OrderID': 10643,\n",
      " u'ProductID': 28,\n",
      " u'ProductName': u'R\\xf6ssle Sauerkraut'}\n",
      "{u'CustomerID': u'ALFKI',\n",
      " u'OrderID': 10643,\n",
      " u'ProductID': 46,\n",
      " u'ProductName': u'Spegesild'}\n",
      "{u'CustomerID': u'ALFKI',\n",
      " u'OrderID': 10643,\n",
      " u'ProductID': 39,\n",
      " u'ProductName': u'Chartreuse verte'}\n",
      "{u'CustomerID': u'ALFKI',\n",
      " u'OrderID': 10692,\n",
      " u'ProductID': 63,\n",
      " u'ProductName': u'Vegie-spread'}\n",
      "{u'CustomerID': u'ALFKI',\n",
      " u'OrderID': 10702,\n",
      " u'ProductID': 76,\n",
      " u'ProductName': u'Lakkalik\\xf6\\xf6ri'}\n",
      "{u'CustomerID': u'ALFKI',\n",
      " u'OrderID': 10702,\n",
      " u'ProductID': 3,\n",
      " u'ProductName': u'Aniseed Syrup'}\n",
      "{u'CustomerID': u'ALFKI',\n",
      " u'OrderID': 10835,\n",
      " u'ProductID': 59,\n",
      " u'ProductName': u'Raclette Courdavault'}\n",
      "{u'CustomerID': u'ALFKI',\n",
      " u'OrderID': 10835,\n",
      " u'ProductID': 77,\n",
      " u'ProductName': u'Original Frankfurter gr\\xfcne So\\xdfe'}\n",
      "{u'CustomerID': u'ALFKI',\n",
      " u'OrderID': 10952,\n",
      " u'ProductID': 6,\n",
      " u'ProductName': u\"Grandma's Boysenberry Spread\"}\n",
      "{u'CustomerID': u'ALFKI',\n",
      " u'OrderID': 10952,\n",
      " u'ProductID': 28,\n",
      " u'ProductName': u'R\\xf6ssle Sauerkraut'}\n",
      "{u'CustomerID': u'ALFKI',\n",
      " u'OrderID': 11011,\n",
      " u'ProductID': 71,\n",
      " u'ProductName': u'Flotemysost'}\n",
      "{u'CustomerID': u'ALFKI',\n",
      " u'OrderID': 11011,\n",
      " u'ProductID': 58,\n",
      " u'ProductName': u'Escargots de Bourgogne'}\n"
     ]
    }
   ],
   "source": [
    "orders = db[\"order-details\"].aggregate([\n",
    "        {\n",
    "            \"$lookup\":\n",
    "                {\n",
    "                    \"from\" : \"orders\",\n",
    "                    \"localField\" : \"OrderID\",\n",
    "                    \"foreignField\" : \"OrderID\",\n",
    "                    \"as\" : \"order\"\n",
    "                }\n",
    "        },\n",
    "        { \n",
    "            \"$match\" : { \"order.CustomerID\":\"ALFKI\" }\n",
    "        },\n",
    "        {\n",
    "            \"$lookup\":\n",
    "                {\n",
    "                    \"from\" : \"products\",\n",
    "                    \"localField\" : \"ProductID\",\n",
    "                    \"foreignField\" : \"ProductID\",\n",
    "                    \"as\" : \"productInfo\"\n",
    "                }\n",
    "        },\n",
    "        {\n",
    "            \"$project\" : {\"_id\":0 ,\"OrderID\": 1, \"ProductID\": 1, \"order\":{\"CustomerID\":1}, \"productInfo\":{\"ProductName\":1}}\n",
    "        },\n",
    "        { \n",
    "            \"$unwind\" : \"$order\" \n",
    "        },\n",
    "        { \n",
    "            \"$unwind\" : \"$productInfo\" \n",
    "        },\n",
    "        {\n",
    "            \"$project\" : {\"_id\":0 ,\"OrderID\": 1, \"ProductID\": 1, \"CustomerID\":\"$order.CustomerID\", \"ProductName\":\"$productInfo.ProductName\"}\n",
    "        }\n",
    "    ])\n",
    "\n",
    "for order in orders:\n",
    "    pprint(order)"
   ]
  },
  {
   "cell_type": "markdown",
   "metadata": {},
   "source": [
    "### Sql lite db"
   ]
  },
  {
   "cell_type": "code",
   "execution_count": 48,
   "metadata": {
    "collapsed": false
   },
   "outputs": [
    {
     "name": "stdout",
     "output_type": "stream",
     "text": [
      "(OrderID, CustomerID, ProductID, ProductName)\n",
      "---------------------------------------------\n",
      "(10643, 'ALFKI', 28, 'R\\xf6ssle Sauerkraut')\n",
      "(10643, 'ALFKI', 39, 'Chartreuse verte')\n",
      "(10643, 'ALFKI', 46, 'Spegesild')\n",
      "(10692, 'ALFKI', 63, 'Vegie-spread')\n",
      "(10702, 'ALFKI', 3, 'Aniseed Syrup')\n",
      "(10702, 'ALFKI', 76, 'Lakkalik\\xf6\\xf6ri')\n",
      "(10835, 'ALFKI', 59, 'Raclette Courdavault')\n",
      "(10835, 'ALFKI', 77, 'Original Frankfurter gr\\xfcne So\\xdfe')\n",
      "(10952, 'ALFKI', 6, \"Grandma's Boysenberry Spread\")\n",
      "(10952, 'ALFKI', 28, 'R\\xf6ssle Sauerkraut')\n",
      "(11011, 'ALFKI', 58, 'Escargots de Bourgogne')\n",
      "(11011, 'ALFKI', 71, 'Flotemysost')\n",
      "\n",
      "ALFKI purchased 12 items\n"
     ]
    }
   ],
   "source": [
    "# start with the sql query\n",
    "import sqlite3\n",
    "\n",
    "con = sqlite3.connect('/Users/GretarAtli/Documents/GitHub/Dtu/Dtu-ToolsForBigData/week_six/northwind.db')\n",
    "con.text_factory = str\n",
    "\n",
    "with con:\n",
    "    \n",
    "    cur = con.cursor()\n",
    "   \n",
    "    cur.execute(\"\"\" \n",
    "        SELECT ode.OrderID, o.CustomerID, ode.ProductID, p.ProductName\n",
    "        FROM \"Order Details\" ode\n",
    "        INNER JOIN  orders o on ode.OrderID = o.OrderID\n",
    "        INNER JOIN Products p on ode.ProductID = p.ProductID\n",
    "        WHERE CustomerId = \"ALFKI\" \n",
    "        \"\"\")\n",
    "    \n",
    "    print \"(OrderID, CustomerID, ProductID, ProductName)\"\n",
    "    print \"---------------------------------------------\"\n",
    "    \n",
    "    data = cur.fetchall()\n",
    "    for d in data:\n",
    "        print d\n",
    "\n",
    "print \"\\nALFKI purchased {} items\".format(len(data))"
   ]
  },
  {
   "cell_type": "markdown",
   "metadata": {},
   "source": []
  },
  {
   "cell_type": "markdown",
   "metadata": {},
   "source": [
    "## Exercise 5.2 (harder query)\n",
    "**Get all orders (with products) made by ALFKI that contain at least 2 different product types.**\n",
    "\n",
    "### Expected outcome\n",
    "\n",
    "#10643 with Rössle Sauerkraut, Spegesild and Chartreuse verte\n",
    "#10702 with Aniseed Syrup and Lakkalikööri\n",
    "#10835 with Raclette Courdavault and Original Frankfurter grüne Soße\n",
    "#10952 with Grandma's Boysenberry Spread and Rössle Sauerkraut\n",
    "#11011 with Escargots de Bourgogne and Flotemysost\n"
   ]
  },
  {
   "cell_type": "markdown",
   "metadata": {},
   "source": [
    "### Sql lite db"
   ]
  },
  {
   "cell_type": "code",
   "execution_count": 49,
   "metadata": {
    "collapsed": false
   },
   "outputs": [
    {
     "name": "stdout",
     "output_type": "stream",
     "text": [
      "(OrderID, CustomerID, ProductID, ProductName)\n",
      "---------------------------------------------\n",
      "(10643, 'ALFKI', 28, 'R\\xf6ssle Sauerkraut')\n",
      "(10643, 'ALFKI', 39, 'Chartreuse verte')\n",
      "(10643, 'ALFKI', 46, 'Spegesild')\n",
      "(10702, 'ALFKI', 3, 'Aniseed Syrup')\n",
      "(10702, 'ALFKI', 76, 'Lakkalik\\xf6\\xf6ri')\n",
      "(10835, 'ALFKI', 59, 'Raclette Courdavault')\n",
      "(10835, 'ALFKI', 77, 'Original Frankfurter gr\\xfcne So\\xdfe')\n",
      "(10952, 'ALFKI', 6, \"Grandma's Boysenberry Spread\")\n",
      "(10952, 'ALFKI', 28, 'R\\xf6ssle Sauerkraut')\n",
      "(11011, 'ALFKI', 58, 'Escargots de Bourgogne')\n",
      "(11011, 'ALFKI', 71, 'Flotemysost')\n",
      "\n",
      "ALFKI purchased 11 items\n"
     ]
    }
   ],
   "source": [
    "# start with the sql query\n",
    "import sqlite3\n",
    "\n",
    "con = sqlite3.connect('/Users/GretarAtli/Documents/GitHub/Dtu/Dtu-ToolsForBigData/week_six/northwind.db')\n",
    "con.text_factory = str\n",
    "\n",
    "with con:\n",
    "    \n",
    "    cur = con.cursor()\n",
    "   \n",
    "    cur.execute(\"\"\" \n",
    "        SELECT ode.OrderID, o.CustomerID, ode.ProductID, p.ProductName\n",
    "        FROM \"Order Details\" ode\n",
    "        INNER JOIN\n",
    "            (\n",
    "            SELECT  COUNT(p.ProductID) ,ode.OrderID, o.CustomerID\n",
    "            From \"Order Details\" ode\n",
    "            INNER JOIN  orders o on ode.OrderID = o.OrderID\n",
    "            INNER JOIN Products p on ode.ProductID = p.ProductID\n",
    "            WHERE CustomerId = \"ALFKI\"\n",
    "            GROUP BY ode.OrderID\n",
    "            HAVING COUNT(p.ProductID) > 1) filter\n",
    "            ON ode.OrderID =filter.OrderID\n",
    "        INNER JOIN Orders o on o.OrderID = ode.OrderID\n",
    "        INNER JOIN Products p on ode.ProductID = p.ProductID\n",
    "        \"\"\")\n",
    "\n",
    "    print \"(OrderID, CustomerID, ProductID, ProductName)\"\n",
    "    print \"---------------------------------------------\"\n",
    "    \n",
    "    data = cur.fetchall()\n",
    "    for d in data:\n",
    "        print d\n",
    "\n",
    "print \"\\nALFKI purchased {} items\".format(len(data))"
   ]
  },
  {
   "cell_type": "markdown",
   "metadata": {},
   "source": [
    "### Mongo db"
   ]
  },
  {
   "cell_type": "code",
   "execution_count": null,
   "metadata": {
    "collapsed": true
   },
   "outputs": [],
   "source": [
    "from pymongo import MongoClient\n",
    "# pprint library is used to make the output look more pretty\n",
    "from pprint import pprint\n",
    "\n",
    "mongodb_url = \"mongodb://localhost:27017\"\n",
    "\n",
    "# connect to MongoDB\n",
    "client = MongoClient(mongodb_url)\n",
    "db=client.Northwind\n",
    "# Issue the serverStatus command and print the results\n",
    "serverStatusResult=db.command(\"serverStatus\")\n",
    "#pprint(serverStatusResult)"
   ]
  },
  {
   "cell_type": "code",
   "execution_count": 121,
   "metadata": {
    "collapsed": false
   },
   "outputs": [
    {
     "name": "stdout",
     "output_type": "stream",
     "text": [
      "{u'OrderId': 11011, u'ProductID': 71, u'ProductName': u'Flotemysost'}\n",
      "{u'OrderId': 11011,\n",
      " u'ProductID': 58,\n",
      " u'ProductName': u'Escargots de Bourgogne'}\n",
      "{u'OrderId': 10835, u'ProductID': 59, u'ProductName': u'Raclette Courdavault'}\n",
      "{u'OrderId': 10835,\n",
      " u'ProductID': 77,\n",
      " u'ProductName': u'Original Frankfurter gr\\xfcne So\\xdfe'}\n",
      "{u'OrderId': 10952,\n",
      " u'ProductID': 6,\n",
      " u'ProductName': u\"Grandma's Boysenberry Spread\"}\n",
      "{u'OrderId': 10952, u'ProductID': 28, u'ProductName': u'R\\xf6ssle Sauerkraut'}\n",
      "{u'OrderId': 10702, u'ProductID': 76, u'ProductName': u'Lakkalik\\xf6\\xf6ri'}\n",
      "{u'OrderId': 10702, u'ProductID': 3, u'ProductName': u'Aniseed Syrup'}\n",
      "{u'OrderId': 10643, u'ProductID': 28, u'ProductName': u'R\\xf6ssle Sauerkraut'}\n",
      "{u'OrderId': 10643, u'ProductID': 46, u'ProductName': u'Spegesild'}\n",
      "{u'OrderId': 10643, u'ProductID': 39, u'ProductName': u'Chartreuse verte'}\n"
     ]
    }
   ],
   "source": [
    "orders = db[\"order-details\"].aggregate([\n",
    "        {\n",
    "            \"$lookup\":\n",
    "                {\n",
    "                    \"from\" : \"orders\",\n",
    "                    \"localField\" : \"OrderID\",\n",
    "                    \"foreignField\" : \"OrderID\",\n",
    "                    \"as\" : \"order\"\n",
    "                }\n",
    "        },\n",
    "        { \"$match\" : { \"order.CustomerID\":\"ALFKI\" } },\n",
    "        { \"$group\" : {\"_id\":\"$OrderID\", \"OrderID_counter\":{\"$sum\":1}} },\n",
    "        {\n",
    "            \"$match\": {\n",
    "                \"OrderID_counter\": {\n",
    "                    \"$gt\": 1\n",
    "                }\n",
    "            }\n",
    "        },\n",
    "        {\n",
    "            \"$lookup\":\n",
    "                {\n",
    "                    \"from\" : \"order-details\",\n",
    "                    \"localField\" : \"_id\",\n",
    "                    \"foreignField\" : \"OrderID\",\n",
    "                    \"as\" : \"order\"\n",
    "                }\n",
    "        },\n",
    "        { \"$unwind\" : \"$order\" },\n",
    "        { \"$project\" : {\"OrderId\":\"$_id\", \"ProductID\":\"$order.ProductID\", \"_id\":0} },\n",
    "        {\n",
    "            \"$lookup\":\n",
    "                {\n",
    "                    \"from\" : \"products\",\n",
    "                    \"localField\" : \"ProductID\",\n",
    "                    \"foreignField\" : \"ProductID\",\n",
    "                    \"as\" : \"productinfo\"\n",
    "                }\n",
    "        },\n",
    "        { \"$unwind\" : \"$productinfo\" },\n",
    "        { \"$project\" : {\"OrderId\":1, \"ProductID\":1, \"ProductName\":\"$productinfo.ProductName\"} },\n",
    "    ])\n",
    "\n",
    "for order in orders:\n",
    "    pprint(order)"
   ]
  },
  {
   "cell_type": "code",
   "execution_count": null,
   "metadata": {
    "collapsed": true
   },
   "outputs": [],
   "source": []
  }
 ],
 "metadata": {
  "anaconda-cloud": {},
  "kernelspec": {
   "display_name": "Python [conda root]",
   "language": "python",
   "name": "conda-root-py"
  },
  "language_info": {
   "codemirror_mode": {
    "name": "ipython",
    "version": 2
   },
   "file_extension": ".py",
   "mimetype": "text/x-python",
   "name": "python",
   "nbconvert_exporter": "python",
   "pygments_lexer": "ipython2",
   "version": "2.7.12"
  }
 },
 "nbformat": 4,
 "nbformat_minor": 1
}
