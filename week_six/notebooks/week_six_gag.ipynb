{
 "cells": [
  {
   "cell_type": "markdown",
   "metadata": {},
   "source": [
    "# Week 6: SQL and NoSQL"
   ]
  },
  {
   "cell_type": "markdown",
   "metadata": {},
   "source": [
    "## Exercise 4.1 (simple query)\n",
    "**The customer with customerID ALFKI has made a number of orders containing some products. Query for, and return, all orders made by ALFKI and the products they contain. Return at least the product id and the name of the products.**\n",
    "\n",
    "\n",
    "### Expected outcome\n",
    "\n",
    "#10643 with Rössle Sauerkraut, Spegesild and Chartreuse verte\n",
    "#10692 with Vegie-spread\n",
    "#10702 with Aniseed Syrup and Lakkalikööri\n",
    "#10835 with Raclette Courdavault and Original Frankfurter grüne Soße\n",
    "#10952 with Grandma's Boysenberry Spread and Rössle Sauerkraut\n",
    "#11011 with Escargots de Bourgogne and Flotemysost\n"
   ]
  },
  {
   "cell_type": "markdown",
   "metadata": {},
   "source": [
    "### Mongo db"
   ]
  },
  {
   "cell_type": "code",
   "execution_count": 1,
   "metadata": {
    "collapsed": false
   },
   "outputs": [],
   "source": [
    "from pymongo import MongoClient\n",
    "# pprint library is used to make the output look more pretty\n",
    "from pprint import pprint\n",
    "\n",
    "mongodb_url = \"mongodb://localhost:27017\"\n",
    "\n",
    "# connect to MongoDB\n",
    "client = MongoClient(mongodb_url)\n",
    "db=client.Northwind\n",
    "# Issue the serverStatus command and print the results\n",
    "serverStatusResult=db.command(\"serverStatus\")\n",
    "#pprint(serverStatusResult)"
   ]
  },
  {
   "cell_type": "code",
   "execution_count": 2,
   "metadata": {
    "collapsed": false
   },
   "outputs": [
    {
     "name": "stdout",
     "output_type": "stream",
     "text": [
      "[u'suppliers',\n",
      " u'territories',\n",
      " u'regions',\n",
      " u'northwind',\n",
      " u'categories',\n",
      " u'products',\n",
      " u'employee-territories',\n",
      " u'orders',\n",
      " u'customers',\n",
      " u'shippers',\n",
      " u'order-details']\n"
     ]
    }
   ],
   "source": [
    "# Get the collections from the Northwind database\n",
    "collection = db.Northwind\n",
    "# print out all of the collections\n",
    "pprint(db.collection_names(include_system_collections=False))"
   ]
  },
  {
   "cell_type": "code",
   "execution_count": 76,
   "metadata": {
    "collapsed": false,
    "scrolled": true
   },
   "outputs": [
    {
     "name": "stdout",
     "output_type": "stream",
     "text": [
      "Results for exercise 4.2 MongoDB\n",
      "\n",
      "Order ID   Product ID   Product Name  \n",
      "----------------------------------------\n",
      "10643      28           Rössle Sauerkraut\n",
      "10643      46           Spegesild     \n",
      "10643      39           Chartreuse verte\n",
      "10692      63           Vegie-spread  \n",
      "10702      76           Lakkalikööri\n",
      "10702      3            Aniseed Syrup \n",
      "10835      59           Raclette Courdavault\n",
      "10835      77           Original Frankfurter grüne Soße\n",
      "10952      6            Grandma's Boysenberry Spread\n",
      "10952      28           Rössle Sauerkraut\n",
      "11011      71           Flotemysost   \n",
      "11011      58           Escargots de Bourgogne\n",
      "\n",
      "Total number of lines: 12\n"
     ]
    }
   ],
   "source": [
    "orders = db[\"order-details\"].aggregate([\n",
    "        {\n",
    "            \"$lookup\":\n",
    "                {\n",
    "                    \"from\" : \"orders\",\n",
    "                    \"localField\" : \"OrderID\",\n",
    "                    \"foreignField\" : \"OrderID\",\n",
    "                    \"as\" : \"order\"\n",
    "                }\n",
    "        },\n",
    "        { \"$match\" : { \"order.CustomerID\":\"ALFKI\" } },\n",
    "        {\n",
    "            \"$lookup\":\n",
    "                {\n",
    "                    \"from\" : \"products\",\n",
    "                    \"localField\" : \"ProductID\",\n",
    "                    \"foreignField\" : \"ProductID\",\n",
    "                    \"as\" : \"productInfo\"\n",
    "                }\n",
    "        },\n",
    "        { \"$project\" : {\"_id\":0 ,\"OrderID\": 1, \"ProductID\": 1, \"order\":{\"CustomerID\":1}, \"productInfo\":{\"ProductName\":1}}},\n",
    "        { \"$unwind\" : \"$order\"},\n",
    "        { \"$unwind\" : \"$productInfo\" },\n",
    "        { \"$project\" : {\"_id\":0 ,\"OrderID\": 1, \"ProductID\": 1, \"CustomerID\":\"$order.CustomerID\", \"ProductName\":\"$productInfo.ProductName\"} }\n",
    "    ])\n",
    "\n",
    "    \n",
    "print \"Results for exercise 4.2 MongoDB\"\n",
    "print\n",
    "print \"{OrderID: <10} {ProductID: <12} {ProductName: <14}\".format(\n",
    "    OrderID = \"Order ID\",ProductID = \"Product ID\", ProductName = \"Product Name\")\n",
    "print \"----------------------------------------\"\n",
    "for order in orders:\n",
    "    print \"{OrderID: <10} {ProductID: <12} {ProductName: <14}\".format(\n",
    "        OrderID = order['OrderID'],ProductID = order['ProductID'], ProductName = order['ProductName'].encode('utf-8'))\n",
    "\n",
    "print\n",
    "print \"Total number of lines: {}\".format(len(data))"
   ]
  },
  {
   "cell_type": "markdown",
   "metadata": {},
   "source": [
    "### Sql lite db"
   ]
  },
  {
   "cell_type": "code",
   "execution_count": 75,
   "metadata": {
    "collapsed": false
   },
   "outputs": [
    {
     "name": "stdout",
     "output_type": "stream",
     "text": [
      "Results for exercise 4.1 Sql lite\n",
      "\n",
      "Order ID   Product ID   Product Name  \n",
      "----------------------------------------\n",
      "10643      28           R�ssle Sauerkraut\n",
      "10643      39           Chartreuse verte\n",
      "10643      46           Spegesild     \n",
      "10692      63           Vegie-spread  \n",
      "10702      3            Aniseed Syrup \n",
      "10702      76           Lakkalik��ri  \n",
      "10835      59           Raclette Courdavault\n",
      "10835      77           Original Frankfurter gr�ne So�e\n",
      "10952      6            Grandma's Boysenberry Spread\n",
      "10952      28           R�ssle Sauerkraut\n",
      "11011      58           Escargots de Bourgogne\n",
      "11011      71           Flotemysost   \n",
      "\n",
      "Total number of lines: 12\n"
     ]
    }
   ],
   "source": [
    "# start with the sql query\n",
    "import sqlite3\n",
    "\n",
    "con = sqlite3.connect('/Users/GretarAtli/Documents/GitHub/Dtu/Dtu-ToolsForBigData/week_six/northwind.db')\n",
    "con.text_factory = str\n",
    "\n",
    "with con:\n",
    "    \n",
    "    cur = con.cursor()\n",
    "   \n",
    "    cur.execute(\"\"\" \n",
    "        SELECT ode.OrderID, o.CustomerID, ode.ProductID, p.ProductName\n",
    "        FROM \"Order Details\" ode\n",
    "        INNER JOIN  orders o on ode.OrderID = o.OrderID\n",
    "        INNER JOIN Products p on ode.ProductID = p.ProductID\n",
    "        WHERE CustomerId = \"ALFKI\" \n",
    "        \"\"\")\n",
    "    \n",
    "    data = cur.fetchall()\n",
    "\n",
    "print \"Results for exercise 4.1 Sql lite\"\n",
    "print\n",
    "print \"{OrderID: <10} {ProductID: <12} {ProductName: <14}\".format(\n",
    "    OrderID = \"Order ID\",ProductID = \"Product ID\", ProductName = \"Product Name\")\n",
    "print \"----------------------------------------\"\n",
    "for d in data:\n",
    "    print \"{OrderID: <10} {ProductID: <12} {ProductName: <14}\".format(\n",
    "        OrderID = d[0],ProductID = d[2], ProductName = d[3])\n",
    "\n",
    "print\n",
    "print \"Total number of lines: {}\".format(len(data))\n"
   ]
  },
  {
   "cell_type": "markdown",
   "metadata": {},
   "source": []
  },
  {
   "cell_type": "markdown",
   "metadata": {},
   "source": [
    "## Exercise 5.2 (harder query)\n",
    "**Get all orders (with products) made by ALFKI that contain at least 2 different product types.**\n",
    "\n",
    "### Expected outcome\n",
    "\n",
    "#10643 with Rössle Sauerkraut, Spegesild and Chartreuse verte\n",
    "#10702 with Aniseed Syrup and Lakkalikööri\n",
    "#10835 with Raclette Courdavault and Original Frankfurter grüne Soße\n",
    "#10952 with Grandma's Boysenberry Spread and Rössle Sauerkraut\n",
    "#11011 with Escargots de Bourgogne and Flotemysost\n"
   ]
  },
  {
   "cell_type": "markdown",
   "metadata": {},
   "source": [
    "### Sql lite db"
   ]
  },
  {
   "cell_type": "code",
   "execution_count": 77,
   "metadata": {
    "collapsed": false
   },
   "outputs": [
    {
     "name": "stdout",
     "output_type": "stream",
     "text": [
      "Results for exercise 4.2 Sql lite\n",
      "\n",
      "Order ID   Product ID   Product Name  \n",
      "----------------------------------------\n",
      "10643      28           R�ssle Sauerkraut\n",
      "10643      39           Chartreuse verte\n",
      "10643      46           Spegesild     \n",
      "10702      3            Aniseed Syrup \n",
      "10702      76           Lakkalik��ri  \n",
      "10835      59           Raclette Courdavault\n",
      "10835      77           Original Frankfurter gr�ne So�e\n",
      "10952      6            Grandma's Boysenberry Spread\n",
      "10952      28           R�ssle Sauerkraut\n",
      "11011      58           Escargots de Bourgogne\n",
      "11011      71           Flotemysost   \n",
      "\n",
      "Total number of lines: 11\n"
     ]
    }
   ],
   "source": [
    "# start with the sql query\n",
    "import sqlite3\n",
    "\n",
    "con = sqlite3.connect('/Users/GretarAtli/Documents/GitHub/Dtu/Dtu-ToolsForBigData/week_six/northwind.db')\n",
    "con.text_factory = str\n",
    "\n",
    "with con:\n",
    "    \n",
    "    cur = con.cursor()\n",
    "   \n",
    "    cur.execute(\"\"\" \n",
    "        SELECT ode.OrderID, o.CustomerID, ode.ProductID, p.ProductName\n",
    "        FROM \"Order Details\" ode\n",
    "        INNER JOIN\n",
    "            (\n",
    "            SELECT  COUNT(p.ProductID) ,ode.OrderID, o.CustomerID\n",
    "            From \"Order Details\" ode\n",
    "            INNER JOIN  orders o on ode.OrderID = o.OrderID\n",
    "            INNER JOIN Products p on ode.ProductID = p.ProductID\n",
    "            WHERE CustomerId = \"ALFKI\"\n",
    "            GROUP BY ode.OrderID\n",
    "            HAVING COUNT(p.ProductID) > 1) filter\n",
    "            ON ode.OrderID =filter.OrderID\n",
    "        INNER JOIN Orders o on o.OrderID = ode.OrderID\n",
    "        INNER JOIN Products p on ode.ProductID = p.ProductID\n",
    "        \"\"\")\n",
    "    \n",
    "    data = cur.fetchall()\n",
    "    \n",
    "print \"Results for exercise 4.2 Sql lite\"\n",
    "print\n",
    "print \"{OrderID: <10} {ProductID: <12} {ProductName: <14}\".format(\n",
    "    OrderID = \"Order ID\",ProductID = \"Product ID\", ProductName = \"Product Name\")\n",
    "print \"----------------------------------------\"\n",
    "for d in data:\n",
    "    print \"{OrderID: <10} {ProductID: <12} {ProductName: <14}\".format(\n",
    "        OrderID = d[0],ProductID = d[2], ProductName = d[3])\n",
    "\n",
    "print\n",
    "print \"Total number of lines: {}\".format(len(data))\n"
   ]
  },
  {
   "cell_type": "markdown",
   "metadata": {},
   "source": [
    "### Mongo db"
   ]
  },
  {
   "cell_type": "code",
   "execution_count": 6,
   "metadata": {
    "collapsed": true
   },
   "outputs": [],
   "source": [
    "from pymongo import MongoClient\n",
    "# pprint library is used to make the output look more pretty\n",
    "from pprint import pprint\n",
    "\n",
    "mongodb_url = \"mongodb://localhost:27017\"\n",
    "\n",
    "# connect to MongoDB\n",
    "client = MongoClient(mongodb_url)\n",
    "db=client.Northwind\n",
    "# Issue the serverStatus command and print the results\n",
    "serverStatusResult=db.command(\"serverStatus\")\n",
    "#pprint(serverStatusResult)"
   ]
  },
  {
   "cell_type": "code",
   "execution_count": 73,
   "metadata": {
    "collapsed": false
   },
   "outputs": [
    {
     "name": "stdout",
     "output_type": "stream",
     "text": [
      "Results for exercise 4.2 MongoDB\n",
      "\n",
      "Order ID   Product ID   Product Name  \n",
      "----------------------------------------\n",
      "11011      71           Flotemysost   \n",
      "11011      58           Escargots de Bourgogne\n",
      "10835      59           Raclette Courdavault\n",
      "10835      77           Original Frankfurter grüne Soße\n",
      "10952      6            Grandma's Boysenberry Spread\n",
      "10952      28           Rössle Sauerkraut\n",
      "10702      76           Lakkalikööri\n",
      "10702      3            Aniseed Syrup \n",
      "10643      28           Rössle Sauerkraut\n",
      "10643      46           Spegesild     \n",
      "10643      39           Chartreuse verte\n",
      "\n",
      "Total number of lines: 10\n"
     ]
    }
   ],
   "source": [
    "orders = db[\"order-details\"].aggregate([\n",
    "        {\n",
    "            \"$lookup\":\n",
    "                {\n",
    "                    \"from\" : \"orders\",\n",
    "                    \"localField\" : \"OrderID\",\n",
    "                    \"foreignField\" : \"OrderID\",\n",
    "                    \"as\" : \"order\"\n",
    "                }\n",
    "        },\n",
    "        { \"$match\" : { \"order.CustomerID\":\"ALFKI\" } },\n",
    "        { \"$group\" : {\"_id\":\"$OrderID\", \"OrderID_counter\":{\"$sum\":1}} },\n",
    "        {\n",
    "            \"$match\": {\n",
    "                \"OrderID_counter\": {\n",
    "                    \"$gt\": 1\n",
    "                }\n",
    "            }\n",
    "        },\n",
    "        {\n",
    "            \"$lookup\":\n",
    "                {\n",
    "                    \"from\" : \"order-details\",\n",
    "                    \"localField\" : \"_id\",\n",
    "                    \"foreignField\" : \"OrderID\",\n",
    "                    \"as\" : \"order\"\n",
    "                }\n",
    "        },\n",
    "        { \"$unwind\" : \"$order\" },\n",
    "        { \"$project\" : {\"OrderId\":\"$_id\", \"ProductID\":\"$order.ProductID\", \"_id\":0} },\n",
    "        {\n",
    "            \"$lookup\":\n",
    "                {\n",
    "                    \"from\" : \"products\",\n",
    "                    \"localField\" : \"ProductID\",\n",
    "                    \"foreignField\" : \"ProductID\",\n",
    "                    \"as\" : \"productinfo\"\n",
    "                }\n",
    "        },\n",
    "        { \"$unwind\" : \"$productinfo\" },\n",
    "        { \"$project\" : {\"OrderId\":1, \"ProductID\":1, \"ProductName\":\"$productinfo.ProductName\"} },\n",
    "    ])\n",
    "\n",
    "print \"Results for exercise 4.2 MongoDB\"\n",
    "print\n",
    "print \"{OrderID: <10} {ProductID: <12} {ProductName: <14}\".format(\n",
    "    OrderID = \"Order ID\",ProductID = \"Product ID\", ProductName = \"Product Name\")\n",
    "print \"----------------------------------------\"\n",
    "for order in orders:\n",
    "    print \"{OrderID: <10} {ProductID: <12} {ProductName: <14}\".format(\n",
    "        OrderID = order['OrderId'],ProductID = order['ProductID'], ProductName = order['ProductName'].encode('utf-8'))\n",
    "\n",
    "print\n",
    "print \"Total number of lines: {}\".format(len(data))"
   ]
  },
  {
   "cell_type": "markdown",
   "metadata": {
    "collapsed": true
   },
   "source": [
    "## Make your own Exercises\n",
    "\n",
    "Find the 10 customers that ordered most orders and find the total quantity each of them bought"
   ]
  },
  {
   "cell_type": "markdown",
   "metadata": {},
   "source": [
    "### Mongodb"
   ]
  },
  {
   "cell_type": "code",
   "execution_count": null,
   "metadata": {
    "collapsed": true
   },
   "outputs": [],
   "source": [
    "from pymongo import MongoClient\n",
    "# pprint library is used to make the output look more pretty\n",
    "from pprint import pprint\n",
    "\n",
    "mongodb_url = \"mongodb://localhost:27017\"\n",
    "\n",
    "# connect to MongoDB\n",
    "client = MongoClient(mongodb_url)\n",
    "db=client.Northwind\n",
    "# Issue the serverStatus command and print the results\n",
    "serverStatusResult=db.command(\"serverStatus\")\n",
    "#pprint(serverStatusResult)"
   ]
  },
  {
   "cell_type": "code",
   "execution_count": 84,
   "metadata": {
    "collapsed": false
   },
   "outputs": [
    {
     "name": "stdout",
     "output_type": "stream",
     "text": [
      "Results for exercise 4.3 (Make your own) MongoDB\n",
      "\n",
      "Customer Id  Total orders   Total quantity\n",
      "------------------------------------------\n",
      "SAVEA        116            4958          \n",
      "ERNSH        102            4543          \n",
      "QUICK        86             3961          \n",
      "RATTC        71             1383          \n",
      "HUNGO        55             1684          \n",
      "BERGS        52             1001          \n",
      "FRANK        48             1525          \n",
      "HILAA        45             1096          \n",
      "FOLKO        45             1234          \n",
      "BONAP        44             980           \n",
      "\n",
      "Total number of lines: 10\n"
     ]
    }
   ],
   "source": [
    "top_ten_most_orders = db['order-details'].aggregate([\n",
    "    \n",
    "    {\n",
    "    # find the data trough two documents we need, similar to join in sql\n",
    "    \"$lookup\":\n",
    "        {\n",
    "          \"from\": \"orders\",\n",
    "          \"localField\": \"OrderID\",\n",
    "          \"foreignField\": \"OrderID\",\n",
    "          \"as\": \"orders_info\"\n",
    "        }\n",
    "    },\n",
    "    \n",
    "    { \"$group\" : {\"_id\":\"$orders_info.CustomerID\", \"OrderID_counter\":{\"$sum\":1}, \"Total_Quantity\": {\"$sum\":\"$Quantity\"}}},  \n",
    "    { \"$sort\": { \"OrderID_counter\": -1} },\n",
    "    { \"$limit\": 10 }\n",
    "])\n",
    "\n",
    "\n",
    "print \"Results for exercise 4.3 (Make your own) MongoDB\"\n",
    "print\n",
    "print \"{CustomerID: <12} {TotalOrders: <14} {TotalQty: <14}\".format(\n",
    "    CustomerID = \"Customer Id\",TotalOrders = \"Total orders\", TotalQty = \"Total quantity\")\n",
    "print \"------------------------------------------\"\n",
    "for order in top_ten_most_orders:\n",
    "    print \"{CustomerID: <12} {TotalOrders: <14} {TotalQty: <14}\".format(\n",
    "        CustomerID = order[\"_id\"][0], TotalOrders = order[\"OrderID_counter\"], TotalQty = order[\"Total_Quantity\"])\n",
    "\n",
    "print\n",
    "print \"Total number of lines: {}\".format(len(data))\n"
   ]
  },
  {
   "cell_type": "markdown",
   "metadata": {},
   "source": [
    "### Sql lite db"
   ]
  },
  {
   "cell_type": "code",
   "execution_count": 80,
   "metadata": {
    "collapsed": false
   },
   "outputs": [
    {
     "name": "stdout",
     "output_type": "stream",
     "text": [
      "Results for exercise 4.3 (Make your own) Sql lite\n",
      "\n",
      "Customer Id  Total orders   Total quantity\n",
      "------------------------------------------\n",
      "SAVEA        116            4958          \n",
      "ERNSH        102            4543          \n",
      "QUICK        86             3961          \n",
      "RATTC        71             1383          \n",
      "HUNGO        55             1684          \n",
      "BERGS        52             1001          \n",
      "FRANK        48             1525          \n",
      "FOLKO        45             1234          \n",
      "HILAA        45             1096          \n",
      "BONAP        44             980           \n",
      "\n",
      "Total number of lines: 10\n",
      "\n"
     ]
    }
   ],
   "source": [
    "# start with the sql query, þetta er rett hit var misskilningur\n",
    "import sqlite3\n",
    "\n",
    "# get connection to the database\n",
    "con = sqlite3.connect('/Users/GretarAtli/Documents/GitHub/Dtu/Dtu-ToolsForBigData/week_six/northwind.db')\n",
    "\n",
    "#sql did not support utf-8\n",
    "con.text_factory = str\n",
    "\n",
    "# open the database\n",
    "with con:\n",
    "    \n",
    "    # get the cursor object\n",
    "    cur = con.cursor()\n",
    "    \n",
    "    # make a querey search\n",
    "    cur.execute(\"\"\" \n",
    "    SELECT CustomerID, COUNT(Orders.OrderID), SUM(ODE.Quantity)\n",
    "        FROM  Orders\n",
    "        INNER JOIN \"Order Details\" Ode on Orders.OrderID = Ode.OrderID\n",
    "        GROUP BY CustomerID\n",
    "        ORDER BY COUNT(Orders.OrderID) desc\n",
    "        LIMIT 10\n",
    "    \"\"\")\n",
    "    \n",
    "    data = cur.fetchall()\n",
    "    \n",
    "print \"Results for exercise 4.3 (Make your own) Sql lite\"\n",
    "print\n",
    "print \"{CustomerID: <12} {TotalOrders: <14} {TotalQty: <14}\".format(\n",
    "    CustomerID = \"Customer Id\",TotalOrders = \"Total orders\", TotalQty = \"Total quantity\")\n",
    "print \"------------------------------------------\"\n",
    "for d in data:\n",
    "    print \"{CustomerID: <12} {TotalOrders: <14} {TotalQty: <14}\".format(\n",
    "        CustomerID = d[0],TotalOrders = d[1], TotalQty = d[2])\n",
    "\n",
    "print\n",
    "print \"Total number of lines: {}\".format(len(data))\n",
    "\n",
    "    \n",
    "    # print the results\n",
    "print"
   ]
  },
  {
   "cell_type": "code",
   "execution_count": null,
   "metadata": {
    "collapsed": true
   },
   "outputs": [],
   "source": []
  }
 ],
 "metadata": {
  "anaconda-cloud": {},
  "kernelspec": {
   "display_name": "Python [conda root]",
   "language": "python",
   "name": "conda-root-py"
  },
  "language_info": {
   "codemirror_mode": {
    "name": "ipython",
    "version": 2
   },
   "file_extension": ".py",
   "mimetype": "text/x-python",
   "name": "python",
   "nbconvert_exporter": "python",
   "pygments_lexer": "ipython2",
   "version": "2.7.12"
  }
 },
 "nbformat": 4,
 "nbformat_minor": 1
}
