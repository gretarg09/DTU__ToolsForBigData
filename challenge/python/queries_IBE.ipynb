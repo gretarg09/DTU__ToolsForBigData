{
 "cells": [
  {
   "cell_type": "code",
   "execution_count": 29,
   "metadata": {
    "collapsed": false
   },
   "outputs": [
    {
     "name": "stdout",
     "output_type": "stream",
     "text": [
      "{14: (28958, 'kitten]]&quot;. the male progenitor of a cat, especially a pedigreed cat, is its &quot;sire&quot;,&lt;ref&gt;{{cite web|url=http://www.oed.com/view/entry/180366?rskey=yylu4e&amp;result=1&amp;isadvanced=false#eid|title=sire|work=the oxford'), 15: (28994, 'kitten]]&quot;. the male progenitor of a cat, especially a pedigreed cat, is its &quot;sire&quot;,&lt;ref&gt;{{cite web|url=http://www.oed.com/view/entry/180366?rskey=yylu4e&amp;result=1&amp;isadvanced=false#eid|title=sire|work=the oxford english dictionary|publisher=oxford'), 16: (28958, 'kitten]]&quot;. the male progenitor of a cat, especially a pedigreed cat, is its &quot;sire&quot;,&lt;ref&gt;{{cite web|url=http://www.oed.com/view/entry/180366?rskey=yylu4e&amp;result=1&amp;isadvanced=false#eid|title=sire|work=the oxford'), 17: (28994, 'kitten]]&quot;. the male progenitor of a cat, especially a pedigreed cat, is its &quot;sire&quot;,&lt;ref&gt;{{cite web|url=http://www.oed.com/view/entry/180366?rskey=yylu4e&amp;result=1&amp;isadvanced=false#eid|title=sire|work=the oxford english dictionary|publisher=oxford')}\n",
      "time 0.00761914253235\n",
      "time 0.0041880607605\n",
      "0.00343108177185\n"
     ]
    }
   ],
   "source": [
    "import time\n",
    "\n",
    "\n",
    "def getPattern(pattern):\n",
    "    pattern = pattern.replace('[',']')\n",
    "    pattern=pattern.split(']')\n",
    "    pattern_sequence = []\n",
    "    for i in range(len(pattern)):\n",
    "        if i % 2:\n",
    "            nums = pattern[i].split(',')\n",
    "            nums= [int(num) for num in nums]\n",
    "            pattern_sequence.append(nums)\n",
    "            \n",
    "        else:\n",
    "            pattern_sequence.append(pattern[i])\n",
    "    return pattern_sequence\n",
    "\n",
    "\n",
    "\n",
    "with open(\"/Users/GretarAtli/Dropbox/Dtu/Tools_For_Big_Data/Exercises/challenge_1/wiki_english_art_cat_preproc.xml\") as f:\n",
    "    test_string = f.read()    \n",
    "\n",
    "\n",
    "# pattern = getPattern('cat[0,10]are[0,10]to')\n",
    "# pattern = getPattern('cat[0, 100]anatomy')\n",
    "# pattern = getPattern('china[30, 150]washington')\n",
    "# pattern = getPattern('english[0, 200]cat')\n",
    "pattern = getPattern('kitten[15, 85]cat[0, 100]sire[0, 200]oxford')\n",
    "\n",
    "t0 = time.time()\n",
    "results = {}\n",
    "start_index = 0 # so we can loop thorugh all the first letters in the pattern\n",
    "key_counter = 0\n",
    "for i in xrange(test_string.count(pattern[0])):\n",
    "    start_index = min(start_index, len(test_string)-1)\n",
    "    start_index =test_string.index(pattern[0], start_index) + len(pattern[0]) \n",
    "    string = ''\n",
    "    end_index = min(len(test_string),  start_index + pattern[1][1] + len(pattern[2])  + len(pattern[0]))\n",
    "    for j in xrange(start_index , end_index): #her a ad verra pattern length i lykkjuni\n",
    "        string += test_string[j]\n",
    "        if string[-len(pattern[2]):] == pattern[2] and len(string) > pattern[1][0]:\n",
    "            results[key_counter] = (start_index + len(string), pattern[0]+ string) #results[key_counter] = (start_index + len(string),  string) #  \n",
    "            key_counter += 1\n",
    "\n",
    "    start_index += 1 - len(pattern[0])\n",
    "t2 = time.time()\n",
    "if len(pattern) > 3:\n",
    "    vec = pattern[3:]\n",
    "    # the ideal is to just a method infuence from dynamic programming, \n",
    "    for i in xrange(1,len(vec), 2):\n",
    "        for key, value in results.items():\n",
    "            start_index, sub_result = value\n",
    "            current_result = ''\n",
    "            end_index = min(start_index + vec[i-1][1] + len(vec[i]), len(test_string))\n",
    "            for j in range(start_index, end_index): \n",
    "                current_result = ''.join([current_result, test_string[j]])\n",
    "                if current_result[-len(vec[i]):] == vec[i] and len(current_result) >vec[i-1][0]:\n",
    "                    results[key_counter] = (start_index + len(current_result), sub_result + current_result)\n",
    "                    key_counter += 1\n",
    "            del results[key]\n",
    "print results\n",
    "\n",
    "    \n",
    "t1 = time.time()\n",
    "\n",
    "print \"time\", t1-t0\n",
    "print \"time\", t2-t0\n",
    "print t1 - t2\n",
    "\n"
   ]
  },
  {
   "cell_type": "code",
   "execution_count": 22,
   "metadata": {
    "collapsed": false
   },
   "outputs": [
    {
     "data": {
      "text/plain": [
       "4"
      ]
     },
     "execution_count": 22,
     "metadata": {},
     "output_type": "execute_result"
    }
   ],
   "source": [
    "len(results)"
   ]
  },
  {
   "cell_type": "code",
   "execution_count": 34,
   "metadata": {
    "collapsed": false
   },
   "outputs": [
    {
     "name": "stdout",
     "output_type": "stream",
     "text": [
      "1\n",
      "set([(147326, 147421, 'china]] has been published by archaeologists and paleontologists from the [[university of washington')])\n",
      "the total time is: 0.00179505348206\n"
     ]
    }
   ],
   "source": [
    "import time\n",
    "\n",
    "\n",
    "def getPattern(pattern):\n",
    "    '''\n",
    "    purpose: get the pattern to a form which is nice to work with\n",
    "    input: string on the from \"a[num, num]b[num, num]c...\"\n",
    "    output: list on the form [\"a\", [num,num], \"b\", [num, num], \"c\",...]\n",
    "    '''\n",
    "    pattern = pattern.replace('[', ']') # know all the parts of the pattern are seperated by ]\n",
    "    pattern = pattern.split(']')\n",
    "    pattern_sequence = []\n",
    "    for i in range(len(pattern)):\n",
    "        # if i is even we know that we have the numbers so we split them on , and append to\n",
    "        # a list\n",
    "        if i % 2:\n",
    "            nums = pattern[i].split(',')\n",
    "            nums = [int(num) for num in nums]\n",
    "            pattern_sequence.append(nums)\n",
    "\n",
    "        else:\n",
    "            pattern_sequence.append(pattern[i])\n",
    "    return pattern_sequence\n",
    "#print \"Please wait..\"\n",
    "#print \"reading data...\"\n",
    "#with open(\"/Users/Ingvar/Dropbox/Ingvar/wiki_english_art_a_preproc.xml\") as f:\n",
    "#    test_string = f.read()\n",
    "\n",
    "with open(\"/Users/GretarAtli/Dropbox/Dtu/Tools_For_Big_Data/Exercises/challenge_1/wiki_english_art_cat_preproc.xml\") as f:\n",
    "    test_string = f.read()\n",
    "pattern = getPattern('china[30,150]washington')\n",
    "#['cat', (0, 100), 'anatomy']\n",
    "#['china', (30, 150), 'washington']\n",
    "# ['kitten', (15, 85), 'cat', (0, 100), 'sire', (0, 200), 'oxford']\n",
    "#print \"start!\"\n",
    "\n",
    "# Initalize counters and results\n",
    "t0 = time.time()\n",
    "results = {}\n",
    "start_index = 0\n",
    "key_counter = 0\n",
    "\n",
    "# loop through all all cases of the first string pattern\n",
    "for i in range(test_string.count(pattern[0])):\n",
    "    start_index = test_string.index(pattern[0], start_index) + len(pattern[0])\n",
    "    text_under_inspection = ''\n",
    "    end_index = min(len(test_string), start_index + pattern[1][1] + len(pattern[2]))\n",
    "    for j in range(start_index, end_index):\n",
    "        text_under_inspection += test_string[j]\n",
    "        if text_under_inspection[-len(pattern[2]):] == pattern[2] and len(text_under_inspection) > pattern[1][0]:\n",
    "            results[key_counter] = (start_index, start_index + len(text_under_inspection), pattern[0] + text_under_inspection)\n",
    "            key_counter += 1\n",
    "    start_index += 1 - len(pattern[0])\n",
    "# If we have more than one pattern, we go to this loops and finish the query\n",
    "# The idea is that since we have now matched the first 3 parts of the string, we can now\n",
    "# loop by jumpying two steps and check ahead if there are x-many characters in the next string\n",
    "# The reason why we loop on 2 is that we know that in total the pattern must be odd, because it starts\n",
    "# and ends with a string, but we have matched the odd above so we now this loop will be even\n",
    "if len(pattern) > 3:\n",
    "    pattern = pattern[3:]\n",
    "    # the ideal is to just a method infuenced from dynamic programming,\n",
    "    for i in range(1, len(pattern), 2):\n",
    "        for key, value in results.items():\n",
    "            old_start_index, start_index, sub_result = value\n",
    "            text_under_inspection = ''\n",
    "            end_index = min(start_index + pattern[i - 1][1] + len(pattern[i]), len(test_string))\n",
    "\n",
    "            for j in range(start_index, end_index):\n",
    "                text_under_inspection += test_string[j]\n",
    "                if text_under_inspection[-len(pattern[i]):] == pattern[i] \\\n",
    "                        and len(text_under_inspection) > pattern[i - 1][0]:\n",
    "                    results[key_counter] = \\\n",
    "                        (start_index, start_index + len(text_under_inspection),sub_result + text_under_inspection)\n",
    "                    key_counter += 1\n",
    "            del results[key]\n",
    "results = set(results.values())\n",
    "\n",
    "t1 = time.time()\n",
    "\n",
    "\n",
    "print \"the total time is:\", t1 - t0\n",
    "\n",
    "#results = [word[2] for word in results]\n",
    "# write the solution in a nice way\n",
    "w = open(\"ingvar.txt\", 'w')\n",
    "w.write(str(len(results)))\n",
    "for match in results:\n",
    "    w.write(\"\\n\")\n",
    "    w.write(match[2])\n",
    "w.close()\n"
   ]
  },
  {
   "cell_type": "code",
   "execution_count": 36,
   "metadata": {
    "collapsed": true
   },
   "outputs": [],
   "source": [
    "str1 =\"object-oriented]] [[world wide web|web]] [[application server]] written in the [[python (programming language)|python]] [[programming language]]. zope stands for &quot;z object publishing environment&quot;, and was the first system using the now common [[object (computer science)|object]] publishing methodology for the web.&lt;ref name=&quot;linuxjournal&quot;&gt;{{cite journal|url=http://www.linuxjournal.com/article/8662|title=at the forge - assessing ruby\"\n",
    "str2 =\"object-oriented]] [[world wide web|web]] [[application server]] written in the [[python (programming language)|python]] [[programming language]]. zope stands for &quot;z object publishing environment&quot;, and was the first system using the now common [[object (computer science)|object]] publishing methodology for the web.&lt;ref name=&quot;linuxjournal&quot;&gt;{{cite journal|url=http://www.linuxjournal.com/article/8662|title=at the forge - assessing ruby\""
   ]
  },
  {
   "cell_type": "code",
   "execution_count": 37,
   "metadata": {
    "collapsed": false
   },
   "outputs": [
    {
     "name": "stdout",
     "output_type": "stream",
     "text": [
      "object-oriented]] [[world wide web|web]] [[application server]] written in the [[python (programming language)|python]] [[programming language]]. zope stands for &quot;z object publishing environment&quot;, and was the first system using the now common [[object (computer science)|object]] publishing methodology for the web.&lt;ref name=&quot;linuxjournal&quot;&gt;{{cite journal|url=http://www.linuxjournal.com/article/8662|title=at the forge - assessing ruby\n"
     ]
    }
   ],
   "source": [
    "print str1"
   ]
  },
  {
   "cell_type": "code",
   "execution_count": 38,
   "metadata": {
    "collapsed": false
   },
   "outputs": [
    {
     "name": "stdout",
     "output_type": "stream",
     "text": [
      "object-oriented]] [[world wide web|web]] [[application server]] written in the [[python (programming language)|python]] [[programming language]]. zope stands for &quot;z object publishing environment&quot;, and was the first system using the now common [[object (computer science)|object]] publishing methodology for the web.&lt;ref name=&quot;linuxjournal&quot;&gt;{{cite journal|url=http://www.linuxjournal.com/article/8662|title=at the forge - assessing ruby\n"
     ]
    }
   ],
   "source": [
    "print str2"
   ]
  },
  {
   "cell_type": "code",
   "execution_count": 39,
   "metadata": {
    "collapsed": false
   },
   "outputs": [
    {
     "data": {
      "text/plain": [
       "461"
      ]
     },
     "execution_count": 39,
     "metadata": {},
     "output_type": "execute_result"
    }
   ],
   "source": [
    "len(str1)"
   ]
  },
  {
   "cell_type": "code",
   "execution_count": 40,
   "metadata": {
    "collapsed": false
   },
   "outputs": [
    {
     "data": {
      "text/plain": [
       "461"
      ]
     },
     "execution_count": 40,
     "metadata": {},
     "output_type": "execute_result"
    }
   ],
   "source": [
    "len(str2)"
   ]
  },
  {
   "cell_type": "code",
   "execution_count": null,
   "metadata": {
    "collapsed": false
   },
   "outputs": [
    {
     "name": "stdout",
     "output_type": "stream",
     "text": [
      "(146702, 146731) arnold schwarzenegger |publis\n",
      "(53913, 53937) arnold schwarzenegger is\n",
      "(129306, 129334) arnold-schwarzeneggers-genis\n",
      "(57128, 57160) arnold-schwarzenegger-file-revis\n",
      "(20644, 20673) arnold schwarzenegger |publis\n",
      "(109957, 109981) arnold-schwarzenegger-is\n",
      "(59361, 59385) arnold schwarzenegger is\n",
      "(7453, 7481) arnold schwarzenegger.  this\n",
      "(16540, 16570) arnold schwarzenegger]], he is\n"
     ]
    }
   ],
   "source": [
    "def get_matches_starting_at(data, pattern, index, starting_index, resulting_matches):\n",
    "    sub_data = data[index:]\n",
    "\n",
    "    P = pattern[0]\n",
    "    if sub_data[:len(P)] == P:\n",
    "        if len(pattern) == 1:\n",
    "            resulting_matches.append((starting_index,index+len(P)))\n",
    "        else:\n",
    "            for new_index in range(pattern[1][0]+1, pattern[1][1]+2):\n",
    "                get_matches_starting_at(data, pattern[2:], index+len(P)+new_index-1, starting_index, resulting_matches)\n",
    "        \n",
    "        return resulting_matches\n",
    "    else:\n",
    "        return []\n",
    "\n",
    "def get_all_matches(data, pattern):\n",
    "    matches_found = []\n",
    "    for index in range(len(data)):\n",
    "        matches_at_index = get_matches_starting_at(data, pattern, index, index, [])\n",
    "        matches_found += matches_at_index\n",
    "        \n",
    "    return set(matches_found)\n",
    "\n",
    "fileUri = \"/Users/GretarAtli/Dropbox/Dtu/Tools_For_Big_Data/Exercises/challenge_1/a_preproc.xml\"\n",
    "with open(fileUri) as f:\n",
    "    for line in f:\n",
    "        data = line\n",
    "\n",
    "        pattern = ['arnold',[0,10],'schwarzenegger',[0,10],'is']\n",
    "        #pattern = [\"cat\",(2,12),\"hat\"]\n",
    "        \n",
    "        matches = get_all_matches(data,pattern)\n",
    "\n",
    "        #print \"Results\"\n",
    "        for m in matches:\n",
    "            print m, data[m[0]:m[1]]\n"
   ]
  },
  {
   "cell_type": "code",
   "execution_count": null,
   "metadata": {
    "collapsed": true
   },
   "outputs": [],
   "source": [
    "arnold schwarzenegger is  - X\n",
    "arnold-schwarzenegger-file-revis - X\n",
    "arnold schwarzenegger is - X\n",
    "arnold schwarzenegger |publis - X\n",
    "arnold-schwarzeneggers-genis - X\n",
    "arnold-schwarzenegger-is  - X\n",
    "arnold schwarzenegger |publis - X\n",
    "arnold schwarzenegger.  this - X\n",
    "arnold schwarzenegger]], he is - X\n",
    "arnold-schwarzenegger-is\n",
    "arnold schwarzenegger|publis\n",
    "arnold schwarzenegger]] is\n",
    "arnold schwarzenegger|publis\n",
    "arnold schwarzenegger]] in his"
   ]
  }
 ],
 "metadata": {
  "anaconda-cloud": {},
  "kernelspec": {
   "display_name": "Python [default]",
   "language": "python",
   "name": "python2"
  },
  "language_info": {
   "codemirror_mode": {
    "name": "ipython",
    "version": 2
   },
   "file_extension": ".py",
   "mimetype": "text/x-python",
   "name": "python",
   "nbconvert_exporter": "python",
   "pygments_lexer": "ipython2",
   "version": "2.7.12"
  }
 },
 "nbformat": 4,
 "nbformat_minor": 2
}
