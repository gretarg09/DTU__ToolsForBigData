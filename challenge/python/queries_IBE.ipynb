{
 "cells": [
  {
   "cell_type": "code",
   "execution_count": 21,
   "metadata": {
    "collapsed": false
   },
   "outputs": [
    {
     "name": "stdout",
     "output_type": "stream",
     "text": [
      "{14: (28958, 'kitten]]&quot;. the male progenitor of a cat, especially a pedigreed cat, is its &quot;sire&quot;,&lt;ref&gt;{{cite web|url=http://www.oed.com/view/entry/180366?rskey=yylu4e&amp;result=1&amp;isadvanced=false#eid|title=sire|work=the oxford'), 15: (28994, 'kitten]]&quot;. the male progenitor of a cat, especially a pedigreed cat, is its &quot;sire&quot;,&lt;ref&gt;{{cite web|url=http://www.oed.com/view/entry/180366?rskey=yylu4e&amp;result=1&amp;isadvanced=false#eid|title=sire|work=the oxford english dictionary|publisher=oxford'), 16: (28958, 'kitten]]&quot;. the male progenitor of a cat, especially a pedigreed cat, is its &quot;sire&quot;,&lt;ref&gt;{{cite web|url=http://www.oed.com/view/entry/180366?rskey=yylu4e&amp;result=1&amp;isadvanced=false#eid|title=sire|work=the oxford'), 17: (28994, 'kitten]]&quot;. the male progenitor of a cat, especially a pedigreed cat, is its &quot;sire&quot;,&lt;ref&gt;{{cite web|url=http://www.oed.com/view/entry/180366?rskey=yylu4e&amp;result=1&amp;isadvanced=false#eid|title=sire|work=the oxford english dictionary|publisher=oxford')}\n",
      "time 0.00548696517944\n",
      "time 0.00273299217224\n",
      "0.0027539730072\n"
     ]
    }
   ],
   "source": [
    "import time\n",
    "\n",
    "\n",
    "def getPattern(pattern):\n",
    "    pattern = pattern.replace('[',']')\n",
    "    pattern=pattern.split(']')\n",
    "    pattern_sequence = []\n",
    "    for i in range(len(pattern)):\n",
    "        if i % 2:\n",
    "            nums = pattern[i].split(',')\n",
    "            nums= [int(num) for num in nums]\n",
    "            pattern_sequence.append(nums)\n",
    "            \n",
    "        else:\n",
    "            pattern_sequence.append(pattern[i])\n",
    "    return pattern_sequence\n",
    "\n",
    "\n",
    "\n",
    "with open(\"/Users/GretarAtli/Dropbox/Dtu/Tools_For_Big_Data/Exercises/challenge_1/wiki_english_art_cat_preproc.xml\") as f:\n",
    "    test_string = f.read()    \n",
    "\n",
    "\n",
    "# pattern = getPattern('cat[0,10]are[0,10]to')\n",
    "# pattern = getPattern('cat[0, 100]anatomy')\n",
    "# pattern = getPattern('china[30, 150]washington')\n",
    "# pattern = getPattern('english[0, 200]cat')\n",
    "pattern = getPattern('kitten[15, 85]cat[0, 100]sire[0, 200]oxford')\n",
    "\n",
    "t0 = time.time()\n",
    "results = {}\n",
    "start_index = 0 # so we can loop thorugh all the first letters in the pattern\n",
    "key_counter = 0\n",
    "for i in xrange(test_string.count(pattern[0])):\n",
    "    start_index = min(start_index, len(test_string)-1)\n",
    "    start_index =test_string.index(pattern[0], start_index) + len(pattern[0]) \n",
    "    string = ''\n",
    "    end_index = min(len(test_string),  start_index + pattern[1][1] + len(pattern[2])  + len(pattern[0]))\n",
    "    for j in xrange(start_index , end_index): #her a ad verra pattern length i lykkjuni\n",
    "        string += test_string[j]\n",
    "        if string[-len(pattern[2]):] == pattern[2] and len(string) > pattern[1][0]:\n",
    "            results[key_counter] = (start_index + len(string), pattern[0]+ string) #results[key_counter] = (start_index + len(string),  string) #  \n",
    "            key_counter += 1\n",
    "\n",
    "    start_index += 1 - len(pattern[0])\n",
    "t2 = time.time()\n",
    "if len(pattern) > 3:\n",
    "    vec = pattern[3:]\n",
    "    # the ideal is to just a method infuence from dynamic programming, \n",
    "    for i in xrange(1,len(vec), 2):\n",
    "        for key, value in results.items():\n",
    "            start_index, sub_result = value\n",
    "            current_result = ''\n",
    "            end_index = min(start_index + vec[i-1][1] + len(vec[i]), len(test_string))\n",
    "            for j in range(start_index, end_index): \n",
    "                current_result = ''.join([current_result, test_string[j]])\n",
    "                if current_result[-len(vec[i]):] == vec[i] and len(current_result) >vec[i-1][0]:\n",
    "                    results[key_counter] = (start_index + len(current_result), sub_result + current_result)\n",
    "                    key_counter += 1\n",
    "            del results[key]\n",
    "print results\n",
    "\n",
    "    \n",
    "t1 = time.time()\n",
    "\n",
    "print \"time\", t1-t0\n",
    "print \"time\", t2-t0\n",
    "print t1 - t2\n",
    "\n"
   ]
  },
  {
   "cell_type": "code",
   "execution_count": 22,
   "metadata": {
    "collapsed": false
   },
   "outputs": [
    {
     "data": {
      "text/plain": [
       "4"
      ]
     },
     "execution_count": 22,
     "metadata": {},
     "output_type": "execute_result"
    }
   ],
   "source": [
    "len(results)"
   ]
  },
  {
   "cell_type": "code",
   "execution_count": 25,
   "metadata": {
    "collapsed": false
   },
   "outputs": [
    {
     "data": {
      "text/plain": [
       "{14: (28958,\n",
       "  'kitten]]&quot;. the male progenitor of a cat, especially a pedigreed cat, is its &quot;sire&quot;,&lt;ref&gt;{{cite web|url=http://www.oed.com/view/entry/180366?rskey=yylu4e&amp;result=1&amp;isadvanced=false#eid|title=sire|work=the oxford'),\n",
       " 15: (28994,\n",
       "  'kitten]]&quot;. the male progenitor of a cat, especially a pedigreed cat, is its &quot;sire&quot;,&lt;ref&gt;{{cite web|url=http://www.oed.com/view/entry/180366?rskey=yylu4e&amp;result=1&amp;isadvanced=false#eid|title=sire|work=the oxford english dictionary|publisher=oxford'),\n",
       " 16: (28958,\n",
       "  'kitten]]&quot;. the male progenitor of a cat, especially a pedigreed cat, is its &quot;sire&quot;,&lt;ref&gt;{{cite web|url=http://www.oed.com/view/entry/180366?rskey=yylu4e&amp;result=1&amp;isadvanced=false#eid|title=sire|work=the oxford'),\n",
       " 17: (28994,\n",
       "  'kitten]]&quot;. the male progenitor of a cat, especially a pedigreed cat, is its &quot;sire&quot;,&lt;ref&gt;{{cite web|url=http://www.oed.com/view/entry/180366?rskey=yylu4e&amp;result=1&amp;isadvanced=false#eid|title=sire|work=the oxford english dictionary|publisher=oxford')}"
      ]
     },
     "execution_count": 25,
     "metadata": {},
     "output_type": "execute_result"
    }
   ],
   "source": [
    "results"
   ]
  }
 ],
 "metadata": {
  "anaconda-cloud": {},
  "kernelspec": {
   "display_name": "Python [default]",
   "language": "python",
   "name": "python2"
  },
  "language_info": {
   "codemirror_mode": {
    "name": "ipython",
    "version": 2
   },
   "file_extension": ".py",
   "mimetype": "text/x-python",
   "name": "python",
   "nbconvert_exporter": "python",
   "pygments_lexer": "ipython2",
   "version": "2.7.12"
  }
 },
 "nbformat": 4,
 "nbformat_minor": 2
}
